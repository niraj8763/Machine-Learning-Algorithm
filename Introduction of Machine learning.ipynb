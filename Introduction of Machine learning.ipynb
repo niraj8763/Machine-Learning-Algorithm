{
 "cells": [
  {
   "cell_type": "code",
   "execution_count": 1,
   "metadata": {},
   "outputs": [
    {
     "name": "stdout",
     "output_type": "stream",
     "text": [
      "x:\n",
      "[[1 2 3]\n",
      " [4 5 6]]\n"
     ]
    }
   ],
   "source": [
    "import numpy as np\n",
    "x = np.array([[1,2,3],[4,5,6]])\n",
    "print('x:\\n{}'.format(x))"
   ]
  },
  {
   "cell_type": "code",
   "execution_count": 2,
   "metadata": {},
   "outputs": [
    {
     "name": "stdout",
     "output_type": "stream",
     "text": [
      "Numpy array:\n",
      "[[1. 0. 0. 0. 0. 0. 0. 0.]\n",
      " [0. 1. 0. 0. 0. 0. 0. 0.]\n",
      " [0. 0. 1. 0. 0. 0. 0. 0.]\n",
      " [0. 0. 0. 1. 0. 0. 0. 0.]\n",
      " [0. 0. 0. 0. 1. 0. 0. 0.]\n",
      " [0. 0. 0. 0. 0. 1. 0. 0.]\n",
      " [0. 0. 0. 0. 0. 0. 1. 0.]\n",
      " [0. 0. 0. 0. 0. 0. 0. 1.]]\n"
     ]
    }
   ],
   "source": [
    "#scipy imp is scipy.sparse (matrices)used when store 2D Array\n",
    "from scipy import sparse\n",
    "eye = np.eye(8)\n",
    "print('Numpy array:\\n{}'.format(eye))\n"
   ]
  },
  {
   "cell_type": "code",
   "execution_count": 3,
   "metadata": {},
   "outputs": [
    {
     "name": "stdout",
     "output_type": "stream",
     "text": [
      "\n",
      " sparse CSR marix:\n",
      "  (0, 0)\t1.0\n",
      "  (1, 1)\t1.0\n",
      "  (2, 2)\t1.0\n",
      "  (3, 3)\t1.0\n",
      "  (4, 4)\t1.0\n",
      "  (5, 5)\t1.0\n",
      "  (6, 6)\t1.0\n",
      "  (7, 7)\t1.0\n"
     ]
    }
   ],
   "source": [
    "sparse_matrix = sparse.csr_matrix(eye)\n",
    "print(\"\\n sparse CSR marix:\\n{}\".format(sparse_matrix))"
   ]
  },
  {
   "cell_type": "code",
   "execution_count": 4,
   "metadata": {},
   "outputs": [
    {
     "name": "stdout",
     "output_type": "stream",
     "text": [
      "COO representation:\n",
      "  (0, 0)\t1.0\n",
      "  (1, 1)\t1.0\n",
      "  (2, 2)\t1.0\n",
      "  (3, 3)\t1.0\n"
     ]
    }
   ],
   "source": [
    "data = np.ones(4)\n",
    "row_indices = np.arange(4)\n",
    "col_indices = np.arange(4)\n",
    "eye_coo = sparse.coo_matrix((data, (row_indices, col_indices)))\n",
    "print(\"COO representation:\\n{}\".format(eye_coo))"
   ]
  },
  {
   "cell_type": "code",
   "execution_count": 5,
   "metadata": {},
   "outputs": [
    {
     "data": {
      "application/javascript": [
       "/* Put everything inside the global mpl namespace */\n",
       "window.mpl = {};\n",
       "\n",
       "\n",
       "mpl.get_websocket_type = function() {\n",
       "    if (typeof(WebSocket) !== 'undefined') {\n",
       "        return WebSocket;\n",
       "    } else if (typeof(MozWebSocket) !== 'undefined') {\n",
       "        return MozWebSocket;\n",
       "    } else {\n",
       "        alert('Your browser does not have WebSocket support. ' +\n",
       "              'Please try Chrome, Safari or Firefox ≥ 6. ' +\n",
       "              'Firefox 4 and 5 are also supported but you ' +\n",
       "              'have to enable WebSockets in about:config.');\n",
       "    };\n",
       "}\n",
       "\n",
       "mpl.figure = function(figure_id, websocket, ondownload, parent_element) {\n",
       "    this.id = figure_id;\n",
       "\n",
       "    this.ws = websocket;\n",
       "\n",
       "    this.supports_binary = (this.ws.binaryType != undefined);\n",
       "\n",
       "    if (!this.supports_binary) {\n",
       "        var warnings = document.getElementById(\"mpl-warnings\");\n",
       "        if (warnings) {\n",
       "            warnings.style.display = 'block';\n",
       "            warnings.textContent = (\n",
       "                \"This browser does not support binary websocket messages. \" +\n",
       "                    \"Performance may be slow.\");\n",
       "        }\n",
       "    }\n",
       "\n",
       "    this.imageObj = new Image();\n",
       "\n",
       "    this.context = undefined;\n",
       "    this.message = undefined;\n",
       "    this.canvas = undefined;\n",
       "    this.rubberband_canvas = undefined;\n",
       "    this.rubberband_context = undefined;\n",
       "    this.format_dropdown = undefined;\n",
       "\n",
       "    this.image_mode = 'full';\n",
       "\n",
       "    this.root = $('<div/>');\n",
       "    this._root_extra_style(this.root)\n",
       "    this.root.attr('style', 'display: inline-block');\n",
       "\n",
       "    $(parent_element).append(this.root);\n",
       "\n",
       "    this._init_header(this);\n",
       "    this._init_canvas(this);\n",
       "    this._init_toolbar(this);\n",
       "\n",
       "    var fig = this;\n",
       "\n",
       "    this.waiting = false;\n",
       "\n",
       "    this.ws.onopen =  function () {\n",
       "            fig.send_message(\"supports_binary\", {value: fig.supports_binary});\n",
       "            fig.send_message(\"send_image_mode\", {});\n",
       "            if (mpl.ratio != 1) {\n",
       "                fig.send_message(\"set_dpi_ratio\", {'dpi_ratio': mpl.ratio});\n",
       "            }\n",
       "            fig.send_message(\"refresh\", {});\n",
       "        }\n",
       "\n",
       "    this.imageObj.onload = function() {\n",
       "            if (fig.image_mode == 'full') {\n",
       "                // Full images could contain transparency (where diff images\n",
       "                // almost always do), so we need to clear the canvas so that\n",
       "                // there is no ghosting.\n",
       "                fig.context.clearRect(0, 0, fig.canvas.width, fig.canvas.height);\n",
       "            }\n",
       "            fig.context.drawImage(fig.imageObj, 0, 0);\n",
       "        };\n",
       "\n",
       "    this.imageObj.onunload = function() {\n",
       "        fig.ws.close();\n",
       "    }\n",
       "\n",
       "    this.ws.onmessage = this._make_on_message_function(this);\n",
       "\n",
       "    this.ondownload = ondownload;\n",
       "}\n",
       "\n",
       "mpl.figure.prototype._init_header = function() {\n",
       "    var titlebar = $(\n",
       "        '<div class=\"ui-dialog-titlebar ui-widget-header ui-corner-all ' +\n",
       "        'ui-helper-clearfix\"/>');\n",
       "    var titletext = $(\n",
       "        '<div class=\"ui-dialog-title\" style=\"width: 100%; ' +\n",
       "        'text-align: center; padding: 3px;\"/>');\n",
       "    titlebar.append(titletext)\n",
       "    this.root.append(titlebar);\n",
       "    this.header = titletext[0];\n",
       "}\n",
       "\n",
       "\n",
       "\n",
       "mpl.figure.prototype._canvas_extra_style = function(canvas_div) {\n",
       "\n",
       "}\n",
       "\n",
       "\n",
       "mpl.figure.prototype._root_extra_style = function(canvas_div) {\n",
       "\n",
       "}\n",
       "\n",
       "mpl.figure.prototype._init_canvas = function() {\n",
       "    var fig = this;\n",
       "\n",
       "    var canvas_div = $('<div/>');\n",
       "\n",
       "    canvas_div.attr('style', 'position: relative; clear: both; outline: 0');\n",
       "\n",
       "    function canvas_keyboard_event(event) {\n",
       "        return fig.key_event(event, event['data']);\n",
       "    }\n",
       "\n",
       "    canvas_div.keydown('key_press', canvas_keyboard_event);\n",
       "    canvas_div.keyup('key_release', canvas_keyboard_event);\n",
       "    this.canvas_div = canvas_div\n",
       "    this._canvas_extra_style(canvas_div)\n",
       "    this.root.append(canvas_div);\n",
       "\n",
       "    var canvas = $('<canvas/>');\n",
       "    canvas.addClass('mpl-canvas');\n",
       "    canvas.attr('style', \"left: 0; top: 0; z-index: 0; outline: 0\")\n",
       "\n",
       "    this.canvas = canvas[0];\n",
       "    this.context = canvas[0].getContext(\"2d\");\n",
       "\n",
       "    var backingStore = this.context.backingStorePixelRatio ||\n",
       "\tthis.context.webkitBackingStorePixelRatio ||\n",
       "\tthis.context.mozBackingStorePixelRatio ||\n",
       "\tthis.context.msBackingStorePixelRatio ||\n",
       "\tthis.context.oBackingStorePixelRatio ||\n",
       "\tthis.context.backingStorePixelRatio || 1;\n",
       "\n",
       "    mpl.ratio = (window.devicePixelRatio || 1) / backingStore;\n",
       "\n",
       "    var rubberband = $('<canvas/>');\n",
       "    rubberband.attr('style', \"position: absolute; left: 0; top: 0; z-index: 1;\")\n",
       "\n",
       "    var pass_mouse_events = true;\n",
       "\n",
       "    canvas_div.resizable({\n",
       "        start: function(event, ui) {\n",
       "            pass_mouse_events = false;\n",
       "        },\n",
       "        resize: function(event, ui) {\n",
       "            fig.request_resize(ui.size.width, ui.size.height);\n",
       "        },\n",
       "        stop: function(event, ui) {\n",
       "            pass_mouse_events = true;\n",
       "            fig.request_resize(ui.size.width, ui.size.height);\n",
       "        },\n",
       "    });\n",
       "\n",
       "    function mouse_event_fn(event) {\n",
       "        if (pass_mouse_events)\n",
       "            return fig.mouse_event(event, event['data']);\n",
       "    }\n",
       "\n",
       "    rubberband.mousedown('button_press', mouse_event_fn);\n",
       "    rubberband.mouseup('button_release', mouse_event_fn);\n",
       "    // Throttle sequential mouse events to 1 every 20ms.\n",
       "    rubberband.mousemove('motion_notify', mouse_event_fn);\n",
       "\n",
       "    rubberband.mouseenter('figure_enter', mouse_event_fn);\n",
       "    rubberband.mouseleave('figure_leave', mouse_event_fn);\n",
       "\n",
       "    canvas_div.on(\"wheel\", function (event) {\n",
       "        event = event.originalEvent;\n",
       "        event['data'] = 'scroll'\n",
       "        if (event.deltaY < 0) {\n",
       "            event.step = 1;\n",
       "        } else {\n",
       "            event.step = -1;\n",
       "        }\n",
       "        mouse_event_fn(event);\n",
       "    });\n",
       "\n",
       "    canvas_div.append(canvas);\n",
       "    canvas_div.append(rubberband);\n",
       "\n",
       "    this.rubberband = rubberband;\n",
       "    this.rubberband_canvas = rubberband[0];\n",
       "    this.rubberband_context = rubberband[0].getContext(\"2d\");\n",
       "    this.rubberband_context.strokeStyle = \"#000000\";\n",
       "\n",
       "    this._resize_canvas = function(width, height) {\n",
       "        // Keep the size of the canvas, canvas container, and rubber band\n",
       "        // canvas in synch.\n",
       "        canvas_div.css('width', width)\n",
       "        canvas_div.css('height', height)\n",
       "\n",
       "        canvas.attr('width', width * mpl.ratio);\n",
       "        canvas.attr('height', height * mpl.ratio);\n",
       "        canvas.attr('style', 'width: ' + width + 'px; height: ' + height + 'px;');\n",
       "\n",
       "        rubberband.attr('width', width);\n",
       "        rubberband.attr('height', height);\n",
       "    }\n",
       "\n",
       "    // Set the figure to an initial 600x600px, this will subsequently be updated\n",
       "    // upon first draw.\n",
       "    this._resize_canvas(600, 600);\n",
       "\n",
       "    // Disable right mouse context menu.\n",
       "    $(this.rubberband_canvas).bind(\"contextmenu\",function(e){\n",
       "        return false;\n",
       "    });\n",
       "\n",
       "    function set_focus () {\n",
       "        canvas.focus();\n",
       "        canvas_div.focus();\n",
       "    }\n",
       "\n",
       "    window.setTimeout(set_focus, 100);\n",
       "}\n",
       "\n",
       "mpl.figure.prototype._init_toolbar = function() {\n",
       "    var fig = this;\n",
       "\n",
       "    var nav_element = $('<div/>');\n",
       "    nav_element.attr('style', 'width: 100%');\n",
       "    this.root.append(nav_element);\n",
       "\n",
       "    // Define a callback function for later on.\n",
       "    function toolbar_event(event) {\n",
       "        return fig.toolbar_button_onclick(event['data']);\n",
       "    }\n",
       "    function toolbar_mouse_event(event) {\n",
       "        return fig.toolbar_button_onmouseover(event['data']);\n",
       "    }\n",
       "\n",
       "    for(var toolbar_ind in mpl.toolbar_items) {\n",
       "        var name = mpl.toolbar_items[toolbar_ind][0];\n",
       "        var tooltip = mpl.toolbar_items[toolbar_ind][1];\n",
       "        var image = mpl.toolbar_items[toolbar_ind][2];\n",
       "        var method_name = mpl.toolbar_items[toolbar_ind][3];\n",
       "\n",
       "        if (!name) {\n",
       "            // put a spacer in here.\n",
       "            continue;\n",
       "        }\n",
       "        var button = $('<button/>');\n",
       "        button.addClass('ui-button ui-widget ui-state-default ui-corner-all ' +\n",
       "                        'ui-button-icon-only');\n",
       "        button.attr('role', 'button');\n",
       "        button.attr('aria-disabled', 'false');\n",
       "        button.click(method_name, toolbar_event);\n",
       "        button.mouseover(tooltip, toolbar_mouse_event);\n",
       "\n",
       "        var icon_img = $('<span/>');\n",
       "        icon_img.addClass('ui-button-icon-primary ui-icon');\n",
       "        icon_img.addClass(image);\n",
       "        icon_img.addClass('ui-corner-all');\n",
       "\n",
       "        var tooltip_span = $('<span/>');\n",
       "        tooltip_span.addClass('ui-button-text');\n",
       "        tooltip_span.html(tooltip);\n",
       "\n",
       "        button.append(icon_img);\n",
       "        button.append(tooltip_span);\n",
       "\n",
       "        nav_element.append(button);\n",
       "    }\n",
       "\n",
       "    var fmt_picker_span = $('<span/>');\n",
       "\n",
       "    var fmt_picker = $('<select/>');\n",
       "    fmt_picker.addClass('mpl-toolbar-option ui-widget ui-widget-content');\n",
       "    fmt_picker_span.append(fmt_picker);\n",
       "    nav_element.append(fmt_picker_span);\n",
       "    this.format_dropdown = fmt_picker[0];\n",
       "\n",
       "    for (var ind in mpl.extensions) {\n",
       "        var fmt = mpl.extensions[ind];\n",
       "        var option = $(\n",
       "            '<option/>', {selected: fmt === mpl.default_extension}).html(fmt);\n",
       "        fmt_picker.append(option);\n",
       "    }\n",
       "\n",
       "    // Add hover states to the ui-buttons\n",
       "    $( \".ui-button\" ).hover(\n",
       "        function() { $(this).addClass(\"ui-state-hover\");},\n",
       "        function() { $(this).removeClass(\"ui-state-hover\");}\n",
       "    );\n",
       "\n",
       "    var status_bar = $('<span class=\"mpl-message\"/>');\n",
       "    nav_element.append(status_bar);\n",
       "    this.message = status_bar[0];\n",
       "}\n",
       "\n",
       "mpl.figure.prototype.request_resize = function(x_pixels, y_pixels) {\n",
       "    // Request matplotlib to resize the figure. Matplotlib will then trigger a resize in the client,\n",
       "    // which will in turn request a refresh of the image.\n",
       "    this.send_message('resize', {'width': x_pixels, 'height': y_pixels});\n",
       "}\n",
       "\n",
       "mpl.figure.prototype.send_message = function(type, properties) {\n",
       "    properties['type'] = type;\n",
       "    properties['figure_id'] = this.id;\n",
       "    this.ws.send(JSON.stringify(properties));\n",
       "}\n",
       "\n",
       "mpl.figure.prototype.send_draw_message = function() {\n",
       "    if (!this.waiting) {\n",
       "        this.waiting = true;\n",
       "        this.ws.send(JSON.stringify({type: \"draw\", figure_id: this.id}));\n",
       "    }\n",
       "}\n",
       "\n",
       "\n",
       "mpl.figure.prototype.handle_save = function(fig, msg) {\n",
       "    var format_dropdown = fig.format_dropdown;\n",
       "    var format = format_dropdown.options[format_dropdown.selectedIndex].value;\n",
       "    fig.ondownload(fig, format);\n",
       "}\n",
       "\n",
       "\n",
       "mpl.figure.prototype.handle_resize = function(fig, msg) {\n",
       "    var size = msg['size'];\n",
       "    if (size[0] != fig.canvas.width || size[1] != fig.canvas.height) {\n",
       "        fig._resize_canvas(size[0], size[1]);\n",
       "        fig.send_message(\"refresh\", {});\n",
       "    };\n",
       "}\n",
       "\n",
       "mpl.figure.prototype.handle_rubberband = function(fig, msg) {\n",
       "    var x0 = msg['x0'] / mpl.ratio;\n",
       "    var y0 = (fig.canvas.height - msg['y0']) / mpl.ratio;\n",
       "    var x1 = msg['x1'] / mpl.ratio;\n",
       "    var y1 = (fig.canvas.height - msg['y1']) / mpl.ratio;\n",
       "    x0 = Math.floor(x0) + 0.5;\n",
       "    y0 = Math.floor(y0) + 0.5;\n",
       "    x1 = Math.floor(x1) + 0.5;\n",
       "    y1 = Math.floor(y1) + 0.5;\n",
       "    var min_x = Math.min(x0, x1);\n",
       "    var min_y = Math.min(y0, y1);\n",
       "    var width = Math.abs(x1 - x0);\n",
       "    var height = Math.abs(y1 - y0);\n",
       "\n",
       "    fig.rubberband_context.clearRect(\n",
       "        0, 0, fig.canvas.width / mpl.ratio, fig.canvas.height / mpl.ratio);\n",
       "\n",
       "    fig.rubberband_context.strokeRect(min_x, min_y, width, height);\n",
       "}\n",
       "\n",
       "mpl.figure.prototype.handle_figure_label = function(fig, msg) {\n",
       "    // Updates the figure title.\n",
       "    fig.header.textContent = msg['label'];\n",
       "}\n",
       "\n",
       "mpl.figure.prototype.handle_cursor = function(fig, msg) {\n",
       "    var cursor = msg['cursor'];\n",
       "    switch(cursor)\n",
       "    {\n",
       "    case 0:\n",
       "        cursor = 'pointer';\n",
       "        break;\n",
       "    case 1:\n",
       "        cursor = 'default';\n",
       "        break;\n",
       "    case 2:\n",
       "        cursor = 'crosshair';\n",
       "        break;\n",
       "    case 3:\n",
       "        cursor = 'move';\n",
       "        break;\n",
       "    }\n",
       "    fig.rubberband_canvas.style.cursor = cursor;\n",
       "}\n",
       "\n",
       "mpl.figure.prototype.handle_message = function(fig, msg) {\n",
       "    fig.message.textContent = msg['message'];\n",
       "}\n",
       "\n",
       "mpl.figure.prototype.handle_draw = function(fig, msg) {\n",
       "    // Request the server to send over a new figure.\n",
       "    fig.send_draw_message();\n",
       "}\n",
       "\n",
       "mpl.figure.prototype.handle_image_mode = function(fig, msg) {\n",
       "    fig.image_mode = msg['mode'];\n",
       "}\n",
       "\n",
       "mpl.figure.prototype.updated_canvas_event = function() {\n",
       "    // Called whenever the canvas gets updated.\n",
       "    this.send_message(\"ack\", {});\n",
       "}\n",
       "\n",
       "// A function to construct a web socket function for onmessage handling.\n",
       "// Called in the figure constructor.\n",
       "mpl.figure.prototype._make_on_message_function = function(fig) {\n",
       "    return function socket_on_message(evt) {\n",
       "        if (evt.data instanceof Blob) {\n",
       "            /* FIXME: We get \"Resource interpreted as Image but\n",
       "             * transferred with MIME type text/plain:\" errors on\n",
       "             * Chrome.  But how to set the MIME type?  It doesn't seem\n",
       "             * to be part of the websocket stream */\n",
       "            evt.data.type = \"image/png\";\n",
       "\n",
       "            /* Free the memory for the previous frames */\n",
       "            if (fig.imageObj.src) {\n",
       "                (window.URL || window.webkitURL).revokeObjectURL(\n",
       "                    fig.imageObj.src);\n",
       "            }\n",
       "\n",
       "            fig.imageObj.src = (window.URL || window.webkitURL).createObjectURL(\n",
       "                evt.data);\n",
       "            fig.updated_canvas_event();\n",
       "            fig.waiting = false;\n",
       "            return;\n",
       "        }\n",
       "        else if (typeof evt.data === 'string' && evt.data.slice(0, 21) == \"data:image/png;base64\") {\n",
       "            fig.imageObj.src = evt.data;\n",
       "            fig.updated_canvas_event();\n",
       "            fig.waiting = false;\n",
       "            return;\n",
       "        }\n",
       "\n",
       "        var msg = JSON.parse(evt.data);\n",
       "        var msg_type = msg['type'];\n",
       "\n",
       "        // Call the  \"handle_{type}\" callback, which takes\n",
       "        // the figure and JSON message as its only arguments.\n",
       "        try {\n",
       "            var callback = fig[\"handle_\" + msg_type];\n",
       "        } catch (e) {\n",
       "            console.log(\"No handler for the '\" + msg_type + \"' message type: \", msg);\n",
       "            return;\n",
       "        }\n",
       "\n",
       "        if (callback) {\n",
       "            try {\n",
       "                // console.log(\"Handling '\" + msg_type + \"' message: \", msg);\n",
       "                callback(fig, msg);\n",
       "            } catch (e) {\n",
       "                console.log(\"Exception inside the 'handler_\" + msg_type + \"' callback:\", e, e.stack, msg);\n",
       "            }\n",
       "        }\n",
       "    };\n",
       "}\n",
       "\n",
       "// from http://stackoverflow.com/questions/1114465/getting-mouse-location-in-canvas\n",
       "mpl.findpos = function(e) {\n",
       "    //this section is from http://www.quirksmode.org/js/events_properties.html\n",
       "    var targ;\n",
       "    if (!e)\n",
       "        e = window.event;\n",
       "    if (e.target)\n",
       "        targ = e.target;\n",
       "    else if (e.srcElement)\n",
       "        targ = e.srcElement;\n",
       "    if (targ.nodeType == 3) // defeat Safari bug\n",
       "        targ = targ.parentNode;\n",
       "\n",
       "    // jQuery normalizes the pageX and pageY\n",
       "    // pageX,Y are the mouse positions relative to the document\n",
       "    // offset() returns the position of the element relative to the document\n",
       "    var x = e.pageX - $(targ).offset().left;\n",
       "    var y = e.pageY - $(targ).offset().top;\n",
       "\n",
       "    return {\"x\": x, \"y\": y};\n",
       "};\n",
       "\n",
       "/*\n",
       " * return a copy of an object with only non-object keys\n",
       " * we need this to avoid circular references\n",
       " * http://stackoverflow.com/a/24161582/3208463\n",
       " */\n",
       "function simpleKeys (original) {\n",
       "  return Object.keys(original).reduce(function (obj, key) {\n",
       "    if (typeof original[key] !== 'object')\n",
       "        obj[key] = original[key]\n",
       "    return obj;\n",
       "  }, {});\n",
       "}\n",
       "\n",
       "mpl.figure.prototype.mouse_event = function(event, name) {\n",
       "    var canvas_pos = mpl.findpos(event)\n",
       "\n",
       "    if (name === 'button_press')\n",
       "    {\n",
       "        this.canvas.focus();\n",
       "        this.canvas_div.focus();\n",
       "    }\n",
       "\n",
       "    var x = canvas_pos.x * mpl.ratio;\n",
       "    var y = canvas_pos.y * mpl.ratio;\n",
       "\n",
       "    this.send_message(name, {x: x, y: y, button: event.button,\n",
       "                             step: event.step,\n",
       "                             guiEvent: simpleKeys(event)});\n",
       "\n",
       "    /* This prevents the web browser from automatically changing to\n",
       "     * the text insertion cursor when the button is pressed.  We want\n",
       "     * to control all of the cursor setting manually through the\n",
       "     * 'cursor' event from matplotlib */\n",
       "    event.preventDefault();\n",
       "    return false;\n",
       "}\n",
       "\n",
       "mpl.figure.prototype._key_event_extra = function(event, name) {\n",
       "    // Handle any extra behaviour associated with a key event\n",
       "}\n",
       "\n",
       "mpl.figure.prototype.key_event = function(event, name) {\n",
       "\n",
       "    // Prevent repeat events\n",
       "    if (name == 'key_press')\n",
       "    {\n",
       "        if (event.which === this._key)\n",
       "            return;\n",
       "        else\n",
       "            this._key = event.which;\n",
       "    }\n",
       "    if (name == 'key_release')\n",
       "        this._key = null;\n",
       "\n",
       "    var value = '';\n",
       "    if (event.ctrlKey && event.which != 17)\n",
       "        value += \"ctrl+\";\n",
       "    if (event.altKey && event.which != 18)\n",
       "        value += \"alt+\";\n",
       "    if (event.shiftKey && event.which != 16)\n",
       "        value += \"shift+\";\n",
       "\n",
       "    value += 'k';\n",
       "    value += event.which.toString();\n",
       "\n",
       "    this._key_event_extra(event, name);\n",
       "\n",
       "    this.send_message(name, {key: value,\n",
       "                             guiEvent: simpleKeys(event)});\n",
       "    return false;\n",
       "}\n",
       "\n",
       "mpl.figure.prototype.toolbar_button_onclick = function(name) {\n",
       "    if (name == 'download') {\n",
       "        this.handle_save(this, null);\n",
       "    } else {\n",
       "        this.send_message(\"toolbar_button\", {name: name});\n",
       "    }\n",
       "};\n",
       "\n",
       "mpl.figure.prototype.toolbar_button_onmouseover = function(tooltip) {\n",
       "    this.message.textContent = tooltip;\n",
       "};\n",
       "mpl.toolbar_items = [[\"Home\", \"Reset original view\", \"fa fa-home icon-home\", \"home\"], [\"Back\", \"Back to previous view\", \"fa fa-arrow-left icon-arrow-left\", \"back\"], [\"Forward\", \"Forward to next view\", \"fa fa-arrow-right icon-arrow-right\", \"forward\"], [\"\", \"\", \"\", \"\"], [\"Pan\", \"Pan axes with left mouse, zoom with right\", \"fa fa-arrows icon-move\", \"pan\"], [\"Zoom\", \"Zoom to rectangle\", \"fa fa-square-o icon-check-empty\", \"zoom\"], [\"\", \"\", \"\", \"\"], [\"Download\", \"Download plot\", \"fa fa-floppy-o icon-save\", \"download\"]];\n",
       "\n",
       "mpl.extensions = [\"eps\", \"pdf\", \"png\", \"ps\", \"raw\", \"svg\"];\n",
       "\n",
       "mpl.default_extension = \"png\";var comm_websocket_adapter = function(comm) {\n",
       "    // Create a \"websocket\"-like object which calls the given IPython comm\n",
       "    // object with the appropriate methods. Currently this is a non binary\n",
       "    // socket, so there is still some room for performance tuning.\n",
       "    var ws = {};\n",
       "\n",
       "    ws.close = function() {\n",
       "        comm.close()\n",
       "    };\n",
       "    ws.send = function(m) {\n",
       "        //console.log('sending', m);\n",
       "        comm.send(m);\n",
       "    };\n",
       "    // Register the callback with on_msg.\n",
       "    comm.on_msg(function(msg) {\n",
       "        //console.log('receiving', msg['content']['data'], msg);\n",
       "        // Pass the mpl event to the overridden (by mpl) onmessage function.\n",
       "        ws.onmessage(msg['content']['data'])\n",
       "    });\n",
       "    return ws;\n",
       "}\n",
       "\n",
       "mpl.mpl_figure_comm = function(comm, msg) {\n",
       "    // This is the function which gets called when the mpl process\n",
       "    // starts-up an IPython Comm through the \"matplotlib\" channel.\n",
       "\n",
       "    var id = msg.content.data.id;\n",
       "    // Get hold of the div created by the display call when the Comm\n",
       "    // socket was opened in Python.\n",
       "    var element = $(\"#\" + id);\n",
       "    var ws_proxy = comm_websocket_adapter(comm)\n",
       "\n",
       "    function ondownload(figure, format) {\n",
       "        window.open(figure.imageObj.src);\n",
       "    }\n",
       "\n",
       "    var fig = new mpl.figure(id, ws_proxy,\n",
       "                           ondownload,\n",
       "                           element.get(0));\n",
       "\n",
       "    // Call onopen now - mpl needs it, as it is assuming we've passed it a real\n",
       "    // web socket which is closed, not our websocket->open comm proxy.\n",
       "    ws_proxy.onopen();\n",
       "\n",
       "    fig.parent_element = element.get(0);\n",
       "    fig.cell_info = mpl.find_output_cell(\"<div id='\" + id + \"'></div>\");\n",
       "    if (!fig.cell_info) {\n",
       "        console.error(\"Failed to find cell for figure\", id, fig);\n",
       "        return;\n",
       "    }\n",
       "\n",
       "    var output_index = fig.cell_info[2]\n",
       "    var cell = fig.cell_info[0];\n",
       "\n",
       "};\n",
       "\n",
       "mpl.figure.prototype.handle_close = function(fig, msg) {\n",
       "    var width = fig.canvas.width/mpl.ratio\n",
       "    fig.root.unbind('remove')\n",
       "\n",
       "    // Update the output cell to use the data from the current canvas.\n",
       "    fig.push_to_output();\n",
       "    var dataURL = fig.canvas.toDataURL();\n",
       "    // Re-enable the keyboard manager in IPython - without this line, in FF,\n",
       "    // the notebook keyboard shortcuts fail.\n",
       "    IPython.keyboard_manager.enable()\n",
       "    $(fig.parent_element).html('<img src=\"' + dataURL + '\" width=\"' + width + '\">');\n",
       "    fig.close_ws(fig, msg);\n",
       "}\n",
       "\n",
       "mpl.figure.prototype.close_ws = function(fig, msg){\n",
       "    fig.send_message('closing', msg);\n",
       "    // fig.ws.close()\n",
       "}\n",
       "\n",
       "mpl.figure.prototype.push_to_output = function(remove_interactive) {\n",
       "    // Turn the data on the canvas into data in the output cell.\n",
       "    var width = this.canvas.width/mpl.ratio\n",
       "    var dataURL = this.canvas.toDataURL();\n",
       "    this.cell_info[1]['text/html'] = '<img src=\"' + dataURL + '\" width=\"' + width + '\">';\n",
       "}\n",
       "\n",
       "mpl.figure.prototype.updated_canvas_event = function() {\n",
       "    // Tell IPython that the notebook contents must change.\n",
       "    IPython.notebook.set_dirty(true);\n",
       "    this.send_message(\"ack\", {});\n",
       "    var fig = this;\n",
       "    // Wait a second, then push the new image to the DOM so\n",
       "    // that it is saved nicely (might be nice to debounce this).\n",
       "    setTimeout(function () { fig.push_to_output() }, 1000);\n",
       "}\n",
       "\n",
       "mpl.figure.prototype._init_toolbar = function() {\n",
       "    var fig = this;\n",
       "\n",
       "    var nav_element = $('<div/>');\n",
       "    nav_element.attr('style', 'width: 100%');\n",
       "    this.root.append(nav_element);\n",
       "\n",
       "    // Define a callback function for later on.\n",
       "    function toolbar_event(event) {\n",
       "        return fig.toolbar_button_onclick(event['data']);\n",
       "    }\n",
       "    function toolbar_mouse_event(event) {\n",
       "        return fig.toolbar_button_onmouseover(event['data']);\n",
       "    }\n",
       "\n",
       "    for(var toolbar_ind in mpl.toolbar_items){\n",
       "        var name = mpl.toolbar_items[toolbar_ind][0];\n",
       "        var tooltip = mpl.toolbar_items[toolbar_ind][1];\n",
       "        var image = mpl.toolbar_items[toolbar_ind][2];\n",
       "        var method_name = mpl.toolbar_items[toolbar_ind][3];\n",
       "\n",
       "        if (!name) { continue; };\n",
       "\n",
       "        var button = $('<button class=\"btn btn-default\" href=\"#\" title=\"' + name + '\"><i class=\"fa ' + image + ' fa-lg\"></i></button>');\n",
       "        button.click(method_name, toolbar_event);\n",
       "        button.mouseover(tooltip, toolbar_mouse_event);\n",
       "        nav_element.append(button);\n",
       "    }\n",
       "\n",
       "    // Add the status bar.\n",
       "    var status_bar = $('<span class=\"mpl-message\" style=\"text-align:right; float: right;\"/>');\n",
       "    nav_element.append(status_bar);\n",
       "    this.message = status_bar[0];\n",
       "\n",
       "    // Add the close button to the window.\n",
       "    var buttongrp = $('<div class=\"btn-group inline pull-right\"></div>');\n",
       "    var button = $('<button class=\"btn btn-mini btn-primary\" href=\"#\" title=\"Stop Interaction\"><i class=\"fa fa-power-off icon-remove icon-large\"></i></button>');\n",
       "    button.click(function (evt) { fig.handle_close(fig, {}); } );\n",
       "    button.mouseover('Stop Interaction', toolbar_mouse_event);\n",
       "    buttongrp.append(button);\n",
       "    var titlebar = this.root.find($('.ui-dialog-titlebar'));\n",
       "    titlebar.prepend(buttongrp);\n",
       "}\n",
       "\n",
       "mpl.figure.prototype._root_extra_style = function(el){\n",
       "    var fig = this\n",
       "    el.on(\"remove\", function(){\n",
       "\tfig.close_ws(fig, {});\n",
       "    });\n",
       "}\n",
       "\n",
       "mpl.figure.prototype._canvas_extra_style = function(el){\n",
       "    // this is important to make the div 'focusable\n",
       "    el.attr('tabindex', 0)\n",
       "    // reach out to IPython and tell the keyboard manager to turn it's self\n",
       "    // off when our div gets focus\n",
       "\n",
       "    // location in version 3\n",
       "    if (IPython.notebook.keyboard_manager) {\n",
       "        IPython.notebook.keyboard_manager.register_events(el);\n",
       "    }\n",
       "    else {\n",
       "        // location in version 2\n",
       "        IPython.keyboard_manager.register_events(el);\n",
       "    }\n",
       "\n",
       "}\n",
       "\n",
       "mpl.figure.prototype._key_event_extra = function(event, name) {\n",
       "    var manager = IPython.notebook.keyboard_manager;\n",
       "    if (!manager)\n",
       "        manager = IPython.keyboard_manager;\n",
       "\n",
       "    // Check for shift+enter\n",
       "    if (event.shiftKey && event.which == 13) {\n",
       "        this.canvas_div.blur();\n",
       "        // select the cell after this one\n",
       "        var index = IPython.notebook.find_cell_index(this.cell_info[0]);\n",
       "        IPython.notebook.select(index + 1);\n",
       "    }\n",
       "}\n",
       "\n",
       "mpl.figure.prototype.handle_save = function(fig, msg) {\n",
       "    fig.ondownload(fig, null);\n",
       "}\n",
       "\n",
       "\n",
       "mpl.find_output_cell = function(html_output) {\n",
       "    // Return the cell and output element which can be found *uniquely* in the notebook.\n",
       "    // Note - this is a bit hacky, but it is done because the \"notebook_saving.Notebook\"\n",
       "    // IPython event is triggered only after the cells have been serialised, which for\n",
       "    // our purposes (turning an active figure into a static one), is too late.\n",
       "    var cells = IPython.notebook.get_cells();\n",
       "    var ncells = cells.length;\n",
       "    for (var i=0; i<ncells; i++) {\n",
       "        var cell = cells[i];\n",
       "        if (cell.cell_type === 'code'){\n",
       "            for (var j=0; j<cell.output_area.outputs.length; j++) {\n",
       "                var data = cell.output_area.outputs[j];\n",
       "                if (data.data) {\n",
       "                    // IPython >= 3 moved mimebundle to data attribute of output\n",
       "                    data = data.data;\n",
       "                }\n",
       "                if (data['text/html'] == html_output) {\n",
       "                    return [cell, data, j];\n",
       "                }\n",
       "            }\n",
       "        }\n",
       "    }\n",
       "}\n",
       "\n",
       "// Register the function which deals with the matplotlib target/channel.\n",
       "// The kernel may be null if the page has been refreshed.\n",
       "if (IPython.notebook.kernel != null) {\n",
       "    IPython.notebook.kernel.comm_manager.register_target('matplotlib', mpl.mpl_figure_comm);\n",
       "}\n"
      ],
      "text/plain": [
       "<IPython.core.display.Javascript object>"
      ]
     },
     "metadata": {},
     "output_type": "display_data"
    },
    {
     "data": {
      "text/html": [
       "<img src=\"data:image/png;base64,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\" width=\"638.888905813665\">"
      ],
      "text/plain": [
       "<IPython.core.display.HTML object>"
      ]
     },
     "metadata": {},
     "output_type": "display_data"
    }
   ],
   "source": [
    "%matplotlib notebook\n",
    "import matplotlib.pyplot as plt\n",
    "x = np.linspace(-10,10,100)\n",
    "y =np.sin(x)\n",
    "plt.plot(x,y,marker='x');"
   ]
  },
  {
   "cell_type": "code",
   "execution_count": 6,
   "metadata": {},
   "outputs": [
    {
     "data": {
      "text/html": [
       "<div>\n",
       "<style scoped>\n",
       "    .dataframe tbody tr th:only-of-type {\n",
       "        vertical-align: middle;\n",
       "    }\n",
       "\n",
       "    .dataframe tbody tr th {\n",
       "        vertical-align: top;\n",
       "    }\n",
       "\n",
       "    .dataframe thead th {\n",
       "        text-align: right;\n",
       "    }\n",
       "</style>\n",
       "<table border=\"1\" class=\"dataframe\">\n",
       "  <thead>\n",
       "    <tr style=\"text-align: right;\">\n",
       "      <th></th>\n",
       "      <th>Name</th>\n",
       "      <th>Location</th>\n",
       "      <th>Age</th>\n",
       "    </tr>\n",
       "  </thead>\n",
       "  <tbody>\n",
       "    <tr>\n",
       "      <th>0</th>\n",
       "      <td>John</td>\n",
       "      <td>New York</td>\n",
       "      <td>24</td>\n",
       "    </tr>\n",
       "    <tr>\n",
       "      <th>1</th>\n",
       "      <td>Anna</td>\n",
       "      <td>Paris</td>\n",
       "      <td>13</td>\n",
       "    </tr>\n",
       "    <tr>\n",
       "      <th>2</th>\n",
       "      <td>Peter</td>\n",
       "      <td>Berlin</td>\n",
       "      <td>53</td>\n",
       "    </tr>\n",
       "    <tr>\n",
       "      <th>3</th>\n",
       "      <td>Linda</td>\n",
       "      <td>London</td>\n",
       "      <td>33</td>\n",
       "    </tr>\n",
       "  </tbody>\n",
       "</table>\n",
       "</div>"
      ],
      "text/plain": [
       "    Name  Location  Age\n",
       "0   John  New York   24\n",
       "1   Anna     Paris   13\n",
       "2  Peter    Berlin   53\n",
       "3  Linda    London   33"
      ]
     },
     "metadata": {},
     "output_type": "display_data"
    }
   ],
   "source": [
    "import pandas as pd\n",
    "data = {'Name': [\"John\", \"Anna\", \"Peter\", \"Linda\"],\n",
    " 'Location' : [\"New York\", \"Paris\", \"Berlin\", \"London\"],\n",
    " 'Age' : [24, 13, 53, 33]\n",
    " }\n",
    "data_pan = pd.DataFrame(data)\n",
    "display(data_pan)"
   ]
  },
  {
   "cell_type": "code",
   "execution_count": 7,
   "metadata": {},
   "outputs": [
    {
     "name": "stdout",
     "output_type": "stream",
     "text": [
      "python version: 3.7.3 (default, Apr  3 2019, 05:39:12) \n",
      "[GCC 8.2.0]\n",
      "Numpy :1.18.1\n",
      "scikit.learn version: 0.22.2\n",
      "IPython versaion: 7.12.0\n"
     ]
    }
   ],
   "source": [
    "import sys\n",
    "print('python version: {}'.format(sys.version))\n",
    "import numpy as np\n",
    "print('Numpy :{}'.format(np.__version__))\n",
    "import sklearn\n",
    "print(\"scikit.learn version: {}\".format(sklearn.__version__))\n",
    "import IPython\n",
    "print('IPython versaion: {}'.format(IPython.__version__))"
   ]
  },
  {
   "cell_type": "code",
   "execution_count": 8,
   "metadata": {},
   "outputs": [],
   "source": [
    "from sklearn.datasets import load_iris\n",
    "iris = load_iris()"
   ]
  },
  {
   "cell_type": "code",
   "execution_count": 9,
   "metadata": {},
   "outputs": [
    {
     "name": "stdout",
     "output_type": "stream",
     "text": [
      "keys of iris:\n",
      "dict_keys(['data', 'target', 'target_names', 'DESCR', 'feature_names', 'filename'])\n"
     ]
    }
   ],
   "source": [
    "print('keys of iris:\\n{}'.format(iris.keys()))"
   ]
  },
  {
   "cell_type": "code",
   "execution_count": 10,
   "metadata": {},
   "outputs": [
    {
     "name": "stdout",
     "output_type": "stream",
     "text": [
      "keys of iris:\n",
      "dict_values([array([[5.1, 3.5, 1.4, 0.2],\n",
      "       [4.9, 3. , 1.4, 0.2],\n",
      "       [4.7, 3.2, 1.3, 0.2],\n",
      "       [4.6, 3.1, 1.5, 0.2],\n",
      "       [5. , 3.6, 1.4, 0.2],\n",
      "       [5.4, 3.9, 1.7, 0.4],\n",
      "       [4.6, 3.4, 1.4, 0.3],\n",
      "       [5. , 3.4, 1.5, 0.2],\n",
      "       [4.4, 2.9, 1.4, 0.2],\n",
      "       [4.9, 3.1, 1.5, 0.1],\n",
      "       [5.4, 3.7, 1.5, 0.2],\n",
      "       [4.8, 3.4, 1.6, 0.2],\n",
      "       [4.8, 3. , 1.4, 0.1],\n",
      "       [4.3, 3. , 1.1, 0.1],\n",
      "       [5.8, 4. , 1.2, 0.2],\n",
      "       [5.7, 4.4, 1.5, 0.4],\n",
      "       [5.4, 3.9, 1.3, 0.4],\n",
      "       [5.1, 3.5, 1.4, 0.3],\n",
      "       [5.7, 3.8, 1.7, 0.3],\n",
      "       [5.1, 3.8, 1.5, 0.3],\n",
      "       [5.4, 3.4, 1.7, 0.2],\n",
      "       [5.1, 3.7, 1.5, 0.4],\n",
      "       [4.6, 3.6, 1. , 0.2],\n",
      "       [5.1, 3.3, 1.7, 0.5],\n",
      "       [4.8, 3.4, 1.9, 0.2],\n",
      "       [5. , 3. , 1.6, 0.2],\n",
      "       [5. , 3.4, 1.6, 0.4],\n",
      "       [5.2, 3.5, 1.5, 0.2],\n",
      "       [5.2, 3.4, 1.4, 0.2],\n",
      "       [4.7, 3.2, 1.6, 0.2],\n",
      "       [4.8, 3.1, 1.6, 0.2],\n",
      "       [5.4, 3.4, 1.5, 0.4],\n",
      "       [5.2, 4.1, 1.5, 0.1],\n",
      "       [5.5, 4.2, 1.4, 0.2],\n",
      "       [4.9, 3.1, 1.5, 0.2],\n",
      "       [5. , 3.2, 1.2, 0.2],\n",
      "       [5.5, 3.5, 1.3, 0.2],\n",
      "       [4.9, 3.6, 1.4, 0.1],\n",
      "       [4.4, 3. , 1.3, 0.2],\n",
      "       [5.1, 3.4, 1.5, 0.2],\n",
      "       [5. , 3.5, 1.3, 0.3],\n",
      "       [4.5, 2.3, 1.3, 0.3],\n",
      "       [4.4, 3.2, 1.3, 0.2],\n",
      "       [5. , 3.5, 1.6, 0.6],\n",
      "       [5.1, 3.8, 1.9, 0.4],\n",
      "       [4.8, 3. , 1.4, 0.3],\n",
      "       [5.1, 3.8, 1.6, 0.2],\n",
      "       [4.6, 3.2, 1.4, 0.2],\n",
      "       [5.3, 3.7, 1.5, 0.2],\n",
      "       [5. , 3.3, 1.4, 0.2],\n",
      "       [7. , 3.2, 4.7, 1.4],\n",
      "       [6.4, 3.2, 4.5, 1.5],\n",
      "       [6.9, 3.1, 4.9, 1.5],\n",
      "       [5.5, 2.3, 4. , 1.3],\n",
      "       [6.5, 2.8, 4.6, 1.5],\n",
      "       [5.7, 2.8, 4.5, 1.3],\n",
      "       [6.3, 3.3, 4.7, 1.6],\n",
      "       [4.9, 2.4, 3.3, 1. ],\n",
      "       [6.6, 2.9, 4.6, 1.3],\n",
      "       [5.2, 2.7, 3.9, 1.4],\n",
      "       [5. , 2. , 3.5, 1. ],\n",
      "       [5.9, 3. , 4.2, 1.5],\n",
      "       [6. , 2.2, 4. , 1. ],\n",
      "       [6.1, 2.9, 4.7, 1.4],\n",
      "       [5.6, 2.9, 3.6, 1.3],\n",
      "       [6.7, 3.1, 4.4, 1.4],\n",
      "       [5.6, 3. , 4.5, 1.5],\n",
      "       [5.8, 2.7, 4.1, 1. ],\n",
      "       [6.2, 2.2, 4.5, 1.5],\n",
      "       [5.6, 2.5, 3.9, 1.1],\n",
      "       [5.9, 3.2, 4.8, 1.8],\n",
      "       [6.1, 2.8, 4. , 1.3],\n",
      "       [6.3, 2.5, 4.9, 1.5],\n",
      "       [6.1, 2.8, 4.7, 1.2],\n",
      "       [6.4, 2.9, 4.3, 1.3],\n",
      "       [6.6, 3. , 4.4, 1.4],\n",
      "       [6.8, 2.8, 4.8, 1.4],\n",
      "       [6.7, 3. , 5. , 1.7],\n",
      "       [6. , 2.9, 4.5, 1.5],\n",
      "       [5.7, 2.6, 3.5, 1. ],\n",
      "       [5.5, 2.4, 3.8, 1.1],\n",
      "       [5.5, 2.4, 3.7, 1. ],\n",
      "       [5.8, 2.7, 3.9, 1.2],\n",
      "       [6. , 2.7, 5.1, 1.6],\n",
      "       [5.4, 3. , 4.5, 1.5],\n",
      "       [6. , 3.4, 4.5, 1.6],\n",
      "       [6.7, 3.1, 4.7, 1.5],\n",
      "       [6.3, 2.3, 4.4, 1.3],\n",
      "       [5.6, 3. , 4.1, 1.3],\n",
      "       [5.5, 2.5, 4. , 1.3],\n",
      "       [5.5, 2.6, 4.4, 1.2],\n",
      "       [6.1, 3. , 4.6, 1.4],\n",
      "       [5.8, 2.6, 4. , 1.2],\n",
      "       [5. , 2.3, 3.3, 1. ],\n",
      "       [5.6, 2.7, 4.2, 1.3],\n",
      "       [5.7, 3. , 4.2, 1.2],\n",
      "       [5.7, 2.9, 4.2, 1.3],\n",
      "       [6.2, 2.9, 4.3, 1.3],\n",
      "       [5.1, 2.5, 3. , 1.1],\n",
      "       [5.7, 2.8, 4.1, 1.3],\n",
      "       [6.3, 3.3, 6. , 2.5],\n",
      "       [5.8, 2.7, 5.1, 1.9],\n",
      "       [7.1, 3. , 5.9, 2.1],\n",
      "       [6.3, 2.9, 5.6, 1.8],\n",
      "       [6.5, 3. , 5.8, 2.2],\n",
      "       [7.6, 3. , 6.6, 2.1],\n",
      "       [4.9, 2.5, 4.5, 1.7],\n",
      "       [7.3, 2.9, 6.3, 1.8],\n",
      "       [6.7, 2.5, 5.8, 1.8],\n",
      "       [7.2, 3.6, 6.1, 2.5],\n",
      "       [6.5, 3.2, 5.1, 2. ],\n",
      "       [6.4, 2.7, 5.3, 1.9],\n",
      "       [6.8, 3. , 5.5, 2.1],\n",
      "       [5.7, 2.5, 5. , 2. ],\n",
      "       [5.8, 2.8, 5.1, 2.4],\n",
      "       [6.4, 3.2, 5.3, 2.3],\n",
      "       [6.5, 3. , 5.5, 1.8],\n",
      "       [7.7, 3.8, 6.7, 2.2],\n",
      "       [7.7, 2.6, 6.9, 2.3],\n",
      "       [6. , 2.2, 5. , 1.5],\n",
      "       [6.9, 3.2, 5.7, 2.3],\n",
      "       [5.6, 2.8, 4.9, 2. ],\n",
      "       [7.7, 2.8, 6.7, 2. ],\n",
      "       [6.3, 2.7, 4.9, 1.8],\n",
      "       [6.7, 3.3, 5.7, 2.1],\n",
      "       [7.2, 3.2, 6. , 1.8],\n",
      "       [6.2, 2.8, 4.8, 1.8],\n",
      "       [6.1, 3. , 4.9, 1.8],\n",
      "       [6.4, 2.8, 5.6, 2.1],\n",
      "       [7.2, 3. , 5.8, 1.6],\n",
      "       [7.4, 2.8, 6.1, 1.9],\n",
      "       [7.9, 3.8, 6.4, 2. ],\n",
      "       [6.4, 2.8, 5.6, 2.2],\n",
      "       [6.3, 2.8, 5.1, 1.5],\n",
      "       [6.1, 2.6, 5.6, 1.4],\n",
      "       [7.7, 3. , 6.1, 2.3],\n",
      "       [6.3, 3.4, 5.6, 2.4],\n",
      "       [6.4, 3.1, 5.5, 1.8],\n",
      "       [6. , 3. , 4.8, 1.8],\n",
      "       [6.9, 3.1, 5.4, 2.1],\n",
      "       [6.7, 3.1, 5.6, 2.4],\n",
      "       [6.9, 3.1, 5.1, 2.3],\n",
      "       [5.8, 2.7, 5.1, 1.9],\n",
      "       [6.8, 3.2, 5.9, 2.3],\n",
      "       [6.7, 3.3, 5.7, 2.5],\n",
      "       [6.7, 3. , 5.2, 2.3],\n",
      "       [6.3, 2.5, 5. , 1.9],\n",
      "       [6.5, 3. , 5.2, 2. ],\n",
      "       [6.2, 3.4, 5.4, 2.3],\n",
      "       [5.9, 3. , 5.1, 1.8]]), array([0, 0, 0, 0, 0, 0, 0, 0, 0, 0, 0, 0, 0, 0, 0, 0, 0, 0, 0, 0, 0, 0,\n",
      "       0, 0, 0, 0, 0, 0, 0, 0, 0, 0, 0, 0, 0, 0, 0, 0, 0, 0, 0, 0, 0, 0,\n",
      "       0, 0, 0, 0, 0, 0, 1, 1, 1, 1, 1, 1, 1, 1, 1, 1, 1, 1, 1, 1, 1, 1,\n",
      "       1, 1, 1, 1, 1, 1, 1, 1, 1, 1, 1, 1, 1, 1, 1, 1, 1, 1, 1, 1, 1, 1,\n",
      "       1, 1, 1, 1, 1, 1, 1, 1, 1, 1, 1, 1, 2, 2, 2, 2, 2, 2, 2, 2, 2, 2,\n",
      "       2, 2, 2, 2, 2, 2, 2, 2, 2, 2, 2, 2, 2, 2, 2, 2, 2, 2, 2, 2, 2, 2,\n",
      "       2, 2, 2, 2, 2, 2, 2, 2, 2, 2, 2, 2, 2, 2, 2, 2, 2, 2]), array(['setosa', 'versicolor', 'virginica'], dtype='<U10'), '.. _iris_dataset:\\n\\nIris plants dataset\\n--------------------\\n\\n**Data Set Characteristics:**\\n\\n    :Number of Instances: 150 (50 in each of three classes)\\n    :Number of Attributes: 4 numeric, predictive attributes and the class\\n    :Attribute Information:\\n        - sepal length in cm\\n        - sepal width in cm\\n        - petal length in cm\\n        - petal width in cm\\n        - class:\\n                - Iris-Setosa\\n                - Iris-Versicolour\\n                - Iris-Virginica\\n                \\n    :Summary Statistics:\\n\\n    ============== ==== ==== ======= ===== ====================\\n                    Min  Max   Mean    SD   Class Correlation\\n    ============== ==== ==== ======= ===== ====================\\n    sepal length:   4.3  7.9   5.84   0.83    0.7826\\n    sepal width:    2.0  4.4   3.05   0.43   -0.4194\\n    petal length:   1.0  6.9   3.76   1.76    0.9490  (high!)\\n    petal width:    0.1  2.5   1.20   0.76    0.9565  (high!)\\n    ============== ==== ==== ======= ===== ====================\\n\\n    :Missing Attribute Values: None\\n    :Class Distribution: 33.3% for each of 3 classes.\\n    :Creator: R.A. Fisher\\n    :Donor: Michael Marshall (MARSHALL%PLU@io.arc.nasa.gov)\\n    :Date: July, 1988\\n\\nThe famous Iris database, first used by Sir R.A. Fisher. The dataset is taken\\nfrom Fisher\\'s paper. Note that it\\'s the same as in R, but not as in the UCI\\nMachine Learning Repository, which has two wrong data points.\\n\\nThis is perhaps the best known database to be found in the\\npattern recognition literature.  Fisher\\'s paper is a classic in the field and\\nis referenced frequently to this day.  (See Duda & Hart, for example.)  The\\ndata set contains 3 classes of 50 instances each, where each class refers to a\\ntype of iris plant.  One class is linearly separable from the other 2; the\\nlatter are NOT linearly separable from each other.\\n\\n.. topic:: References\\n\\n   - Fisher, R.A. \"The use of multiple measurements in taxonomic problems\"\\n     Annual Eugenics, 7, Part II, 179-188 (1936); also in \"Contributions to\\n     Mathematical Statistics\" (John Wiley, NY, 1950).\\n   - Duda, R.O., & Hart, P.E. (1973) Pattern Classification and Scene Analysis.\\n     (Q327.D83) John Wiley & Sons.  ISBN 0-471-22361-1.  See page 218.\\n   - Dasarathy, B.V. (1980) \"Nosing Around the Neighborhood: A New System\\n     Structure and Classification Rule for Recognition in Partially Exposed\\n     Environments\".  IEEE Transactions on Pattern Analysis and Machine\\n     Intelligence, Vol. PAMI-2, No. 1, 67-71.\\n   - Gates, G.W. (1972) \"The Reduced Nearest Neighbor Rule\".  IEEE Transactions\\n     on Information Theory, May 1972, 431-433.\\n   - See also: 1988 MLC Proceedings, 54-64.  Cheeseman et al\"s AUTOCLASS II\\n     conceptual clustering system finds 3 classes in the data.\\n   - Many, many more ...', ['sepal length (cm)', 'sepal width (cm)', 'petal length (cm)', 'petal width (cm)'], '/home/pi/.virtualenvs/cv/lib/python3.7/site-packages/sklearn/datasets/data/iris.csv'])\n"
     ]
    }
   ],
   "source": [
    "print('keys of iris:\\n{}'.format(iris.values()))"
   ]
  },
  {
   "cell_type": "code",
   "execution_count": 11,
   "metadata": {},
   "outputs": [
    {
     "name": "stdout",
     "output_type": "stream",
     "text": [
      ".. _iris_dataset:\n",
      "\n",
      "Iris plants dataset\n",
      "--------------------\n",
      "\n",
      "**Data Set Characteristics:**\n",
      "\n",
      "    :Number of Instances: 150 (50 in each of three classes)\n",
      "    :Number of Attributes: 4 numeric, pre\n",
      "..\n"
     ]
    }
   ],
   "source": [
    "print(iris['DESCR'][:193]+\"\\n..\")"
   ]
  },
  {
   "cell_type": "code",
   "execution_count": 12,
   "metadata": {},
   "outputs": [
    {
     "name": "stdout",
     "output_type": "stream",
     "text": [
      "target names : ['setosa' 'versicolor' 'virginica']\n"
     ]
    }
   ],
   "source": [
    "print('target names : {}'.format(iris['target_names']))"
   ]
  },
  {
   "cell_type": "code",
   "execution_count": 13,
   "metadata": {},
   "outputs": [
    {
     "name": "stdout",
     "output_type": "stream",
     "text": [
      "features names : ['sepal length (cm)', 'sepal width (cm)', 'petal length (cm)', 'petal width (cm)']\n"
     ]
    }
   ],
   "source": [
    "print('features names : {}'.format(iris['feature_names']))"
   ]
  },
  {
   "cell_type": "code",
   "execution_count": 14,
   "metadata": {},
   "outputs": [
    {
     "name": "stdout",
     "output_type": "stream",
     "text": [
      "Type of data: <class 'numpy.ndarray'>\n"
     ]
    }
   ],
   "source": [
    "print(\"Type of data: {}\".format(type(iris['data'])))"
   ]
  },
  {
   "cell_type": "code",
   "execution_count": 15,
   "metadata": {},
   "outputs": [
    {
     "name": "stdout",
     "output_type": "stream",
     "text": [
      "Shape of data: (150, 4)\n"
     ]
    }
   ],
   "source": [
    "print(\"Shape of data: {}\".format(iris['data'].shape))"
   ]
  },
  {
   "cell_type": "code",
   "execution_count": 16,
   "metadata": {},
   "outputs": [
    {
     "name": "stdout",
     "output_type": "stream",
     "text": [
      "First five columns of data:\n",
      "[[5.1 3.5 1.4 0.2]\n",
      " [4.9 3.  1.4 0.2]\n",
      " [4.7 3.2 1.3 0.2]\n",
      " [4.6 3.1 1.5 0.2]\n",
      " [5.  3.6 1.4 0.2]]\n"
     ]
    }
   ],
   "source": [
    "print(\"First five columns of data:\\n{}\".format(iris['data'][:5]))"
   ]
  },
  {
   "cell_type": "code",
   "execution_count": 17,
   "metadata": {},
   "outputs": [
    {
     "name": "stdout",
     "output_type": "stream",
     "text": [
      "Type of target: <class 'numpy.ndarray'>\n"
     ]
    }
   ],
   "source": [
    "print(\"Type of target: {}\".format(type(iris['target'])))"
   ]
  },
  {
   "cell_type": "code",
   "execution_count": 18,
   "metadata": {},
   "outputs": [
    {
     "name": "stdout",
     "output_type": "stream",
     "text": [
      "Shape of target: (150,)\n"
     ]
    }
   ],
   "source": [
    "print(\"Shape of target: {}\".format(iris['target'].shape))"
   ]
  },
  {
   "cell_type": "code",
   "execution_count": 19,
   "metadata": {},
   "outputs": [
    {
     "name": "stdout",
     "output_type": "stream",
     "text": [
      "Target:\n",
      "[0 0 0 0 0 0 0 0 0 0 0 0 0 0 0 0 0 0 0 0 0 0 0 0 0 0 0 0 0 0 0 0 0 0 0 0 0\n",
      " 0 0 0 0 0 0 0 0 0 0 0 0 0 1 1 1 1 1 1 1 1 1 1 1 1 1 1 1 1 1 1 1 1 1 1 1 1\n",
      " 1 1 1 1 1 1 1 1 1 1 1 1 1 1 1 1 1 1 1 1 1 1 1 1 1 1 2 2 2 2 2 2 2 2 2 2 2\n",
      " 2 2 2 2 2 2 2 2 2 2 2 2 2 2 2 2 2 2 2 2 2 2 2 2 2 2 2 2 2 2 2 2 2 2 2 2 2\n",
      " 2 2]\n"
     ]
    }
   ],
   "source": [
    "print(\"Target:\\n{}\".format(iris['target']))"
   ]
  },
  {
   "cell_type": "code",
   "execution_count": 21,
   "metadata": {},
   "outputs": [],
   "source": [
    "from sklearn.model_selection import train_test_split\n",
    "X_train,X_test,y_train,y_test = train_test_split(iris['data'],iris['target'],random_state=0)"
   ]
  },
  {
   "cell_type": "code",
   "execution_count": 22,
   "metadata": {},
   "outputs": [
    {
     "name": "stdout",
     "output_type": "stream",
     "text": [
      "X_train shape: (112, 4)\n",
      "y_train shape: (112,)\n"
     ]
    }
   ],
   "source": [
    "print(\"X_train shape: {}\".format(X_train.shape))\n",
    "print(\"y_train shape: {}\".format(y_train.shape))"
   ]
  },
  {
   "cell_type": "code",
   "execution_count": 23,
   "metadata": {},
   "outputs": [
    {
     "name": "stdout",
     "output_type": "stream",
     "text": [
      "X_test shape: (38, 4)\n",
      "y_test shape: (38,)\n"
     ]
    }
   ],
   "source": [
    "print(\"X_test shape: {}\".format(X_test.shape))\n",
    "print(\"y_test shape: {}\".format(y_test.shape))"
   ]
  },
  {
   "cell_type": "code",
   "execution_count": 32,
   "metadata": {},
   "outputs": [],
   "source": [
    "from sklearn.neighbors import KNeighborsClassifier\n",
    "knn = KNeighborsClassifier(n_neighbors=1)"
   ]
  },
  {
   "cell_type": "code",
   "execution_count": 33,
   "metadata": {},
   "outputs": [
    {
     "data": {
      "text/plain": [
       "KNeighborsClassifier(algorithm='auto', leaf_size=30, metric='minkowski',\n",
       "                     metric_params=None, n_jobs=None, n_neighbors=1, p=2,\n",
       "                     weights='uniform')"
      ]
     },
     "execution_count": 33,
     "metadata": {},
     "output_type": "execute_result"
    }
   ],
   "source": [
    "knn.fit(X_train,y_train)"
   ]
  },
  {
   "cell_type": "code",
   "execution_count": 34,
   "metadata": {},
   "outputs": [
    {
     "name": "stdout",
     "output_type": "stream",
     "text": [
      "X_new.shape: (1, 4)\n"
     ]
    }
   ],
   "source": [
    "X_new =np.array([[5,2.9,1,0.2]])\n",
    "print('X_new.shape: {}'.format(X_new.shape))"
   ]
  },
  {
   "cell_type": "code",
   "execution_count": 36,
   "metadata": {},
   "outputs": [
    {
     "name": "stdout",
     "output_type": "stream",
     "text": [
      "prediction: [0]\n",
      "predicted target name: ['setosa']\n"
     ]
    }
   ],
   "source": [
    "prediction = knn.predict(X_new)\n",
    "print('prediction: {}'.format(prediction))\n",
    "print('predicted target name: {}'.format(iris['target_names'][prediction]))"
   ]
  },
  {
   "cell_type": "code",
   "execution_count": 37,
   "metadata": {},
   "outputs": [
    {
     "name": "stdout",
     "output_type": "stream",
     "text": [
      "Test set prediction:\n",
      " [2 1 0 2 0 2 0 1 1 1 2 1 1 1 1 0 1 1 0 0 2 1 0 0 2 0 0 1 1 0 2 1 0 2 2 1 0\n",
      " 2]\n"
     ]
    }
   ],
   "source": [
    "y_pred = knn.predict(X_test)\n",
    "print('Test set prediction:\\n {}'.format(y_pred))"
   ]
  },
  {
   "cell_type": "code",
   "execution_count": 39,
   "metadata": {},
   "outputs": [
    {
     "name": "stdout",
     "output_type": "stream",
     "text": [
      "Test set score : 0.97\n"
     ]
    }
   ],
   "source": [
    "print('Test set score : {:,.2f}'.format(np.mean(y_pred==y_test)))"
   ]
  },
  {
   "cell_type": "code",
   "execution_count": 42,
   "metadata": {},
   "outputs": [
    {
     "name": "stdout",
     "output_type": "stream",
     "text": [
      "Test det score : 0.97\n"
     ]
    }
   ],
   "source": [
    "print('Test det score : {:,.2f}'.format(knn.score(X_test,y_test)))"
   ]
  },
  {
   "cell_type": "code",
   "execution_count": 44,
   "metadata": {},
   "outputs": [
    {
     "data": {
      "text/plain": [
       "KNeighborsClassifier(algorithm='auto', leaf_size=30, metric='minkowski',\n",
       "                     metric_params=None, n_jobs=None, n_neighbors=1, p=2,\n",
       "                     weights='uniform')"
      ]
     },
     "execution_count": 44,
     "metadata": {},
     "output_type": "execute_result"
    }
   ],
   "source": [
    "X_train,X_test,y_train,y_test = train_test_split(iris['data'],iris['target'],random_state=0)\n",
    "knn = KNeighborsClassifier(n_neighbors=1)\n",
    "knn.fit(X_train,y_train)"
   ]
  },
  {
   "cell_type": "code",
   "execution_count": 46,
   "metadata": {},
   "outputs": [
    {
     "name": "stdout",
     "output_type": "stream",
     "text": [
      "Test set score: 0.97\n"
     ]
    }
   ],
   "source": [
    "print('Test set score: {:.2f}'.format(knn.score(X_test,y_test)))"
   ]
  },
  {
   "cell_type": "code",
   "execution_count": null,
   "metadata": {},
   "outputs": [],
   "source": []
  }
 ],
 "metadata": {
  "kernelspec": {
   "display_name": "Python 3",
   "language": "python",
   "name": "python3"
  },
  "language_info": {
   "codemirror_mode": {
    "name": "ipython",
    "version": 3
   },
   "file_extension": ".py",
   "mimetype": "text/x-python",
   "name": "python",
   "nbconvert_exporter": "python",
   "pygments_lexer": "ipython3",
   "version": "3.7.3"
  }
 },
 "nbformat": 4,
 "nbformat_minor": 4
}
